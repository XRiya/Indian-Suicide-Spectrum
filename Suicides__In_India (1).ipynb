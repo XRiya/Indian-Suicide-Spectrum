{
  "nbformat": 4,
  "nbformat_minor": 0,
  "metadata": {
    "colab": {
      "provenance": []
    },
    "kernelspec": {
      "name": "python3",
      "display_name": "Python 3"
    },
    "language_info": {
      "name": "python"
    }
  },
  "cells": [
    {
      "cell_type": "code",
      "source": [
        "import numpy as np\n",
        "import pandas as pd\n",
        "import os\n",
        "import matplotlib.pyplot as plt\n",
        "import seaborn as sns\n",
        "%matplotlib inline\n",
        "\n",
        "\n",
        "#Plotly libraries\n",
        "import plotly as py\n",
        "import plotly.graph_objs as go\n",
        "import plotly.express as px\n",
        "from plotly.offline import download_plotlyjs, init_notebook_mode, plot, iplot\n",
        "init_notebook_mode(connected=True)"
      ],
      "metadata": {
        "id": "eEOLon27hGbE"
      },
      "execution_count": null,
      "outputs": []
    },
    {
      "cell_type": "code",
      "source": [
        "data = pd.read_csv('/content/Suicides in India 2001-2012.csv')\n",
        "data.info()"
      ],
      "metadata": {
        "id": "Owh6f2p5hSws"
      },
      "execution_count": null,
      "outputs": []
    },
    {
      "cell_type": "code",
      "source": [
        "data.head()"
      ],
      "metadata": {
        "id": "qjYdOMWZI39u"
      },
      "execution_count": null,
      "outputs": []
    },
    {
      "cell_type": "code",
      "source": [
        "data.sample(10)"
      ],
      "metadata": {
        "id": "HEteMBq5KwMa"
      },
      "execution_count": null,
      "outputs": []
    },
    {
      "cell_type": "markdown",
      "source": [
        "#Data Cleaning"
      ],
      "metadata": {
        "id": "nTf4Z2ZqLNyk"
      }
    },
    {
      "cell_type": "code",
      "source": [
        "# rename Type\n",
        "\n",
        "data.replace('Bankruptcy or Sudden change in Economic',\n",
        "           'Bankruptcy or Sudden change in Economic Status', inplace=True)\n",
        "data.replace('By Other means (please specify)', 'By Other means', inplace=True)\n",
        "data.replace('Not having Children(Barrenness/Impotency',\n",
        "           'Not having Children (Barrenness/Impotency', inplace=True)"
      ],
      "metadata": {
        "id": "0AAI98QmLJZl"
      },
      "execution_count": null,
      "outputs": []
    },
    {
      "cell_type": "code",
      "source": [
        "# rename states\n",
        "\n",
        "data.replace('A & N Islands (Ut)', 'A & N Islands', inplace=True)\n",
        "data.replace('Chandigarh (Ut)', 'Chandigarh', inplace=True)\n",
        "data.replace('D & N Haveli (Ut)', 'D & N Haveli', inplace=True)\n",
        "data.replace('Daman & Diu (Ut)', 'Daman & Diu', inplace=True)\n",
        "data.replace('Lakshadweep (Ut)', 'Lakshadweep', inplace=True)\n",
        "data.replace('Delhi (Ut)', 'Delhi', inplace=True)"
      ],
      "metadata": {
        "id": "cuQb2o3xL8oz"
      },
      "execution_count": null,
      "outputs": []
    },
    {
      "cell_type": "code",
      "source": [
        "data = data.drop(data[(data.State == 'Total (Uts)') | (data.State == 'Total (All India)') |\n",
        "               (data.State == 'Total (States)')].index)"
      ],
      "metadata": {
        "id": "OhHRA5fYMAUO"
      },
      "execution_count": null,
      "outputs": []
    },
    {
      "cell_type": "code",
      "source": [
        "data= data.drop_duplicates()"
      ],
      "metadata": {
        "id": "4YNPps0LMHwZ"
      },
      "execution_count": null,
      "outputs": []
    },
    {
      "cell_type": "code",
      "source": [
        "fig = px.bar(data, x=\"State\", y=\"Total\", color=\"State\",\n",
        "  animation_frame=\"Year\", animation_group=\"Total\", range_y=[0,20000],width=1000)\n",
        "py.offline.iplot(fig)"
      ],
      "metadata": {
        "id": "udEOwtiMMU94"
      },
      "execution_count": null,
      "outputs": []
    },
    {
      "cell_type": "code",
      "source": [
        "temp_state = data.groupby('State').count()['Total'].reset_index().sort_values(by='Total',ascending=False)\n",
        "temp_state.style.background_gradient(cmap='Oranges')"
      ],
      "metadata": {
        "id": "K_DyBqV7M-Qc"
      },
      "execution_count": null,
      "outputs": []
    },
    {
      "cell_type": "code",
      "source": [
        "# Count the occurrences of each gender\n",
        "counts = data['Gender'].value_counts().sort_index()\n",
        "print(counts)\n",
        "\n",
        "# Define custom colors for the pie chart\n",
        "colors = ['#00A9FF', '#CDF5FD']  # Replace with your desired colors\n",
        "\n",
        "# Plot a pie chart\n",
        "counts.plot(kind='pie', title='Gender Count', figsize=(10, 8), colors=colors, autopct='%1.1f%%')\n",
        "\n",
        "plt.legend()\n",
        "plt.show()"
      ],
      "metadata": {
        "id": "b21MtDZsNHXx"
      },
      "execution_count": null,
      "outputs": []
    },
    {
      "cell_type": "code",
      "source": [
        "# splitting data as per the type code\n",
        "\n",
        "cause = data[data['Type_code'] == 'Causes']\n",
        "edu_status = data[data['Type_code'] == 'Education_Status']\n",
        "means_adpt = data[data['Type_code'] == 'Means_adopted']\n",
        "prof = data[data['Type_code'] == 'Professional_Profile']\n",
        "soc_status = data[data['Type_code'] == 'Social_Status']"
      ],
      "metadata": {
        "id": "YGXRyh4qOpPT"
      },
      "execution_count": null,
      "outputs": []
    },
    {
      "cell_type": "code",
      "source": [
        "def plot_type(data, Title, X_lab):\n",
        "    p_type = data.groupby('Type').sum()['Total']\n",
        "    sort_df = p_type.sort_values(ascending = False)\n",
        "\n",
        "    sns.set_palette(sns.color_palette(['#265073']))\n",
        "    fig = sort_df.plot(kind='bar', figsize = (10,6), title = Title + '\\n', width = 0.75)\n",
        "    fig.set_xlabel('\\n' + X_lab )\n",
        "    fig.set_ylabel('Count\\n')\n",
        "    sns.set_style('whitegrid')\n"
      ],
      "metadata": {
        "id": "8qevkYJrOvs5"
      },
      "execution_count": null,
      "outputs": []
    },
    {
      "cell_type": "code",
      "source": [
        "plot_type(cause, 'Suicide by cause', 'Cause')"
      ],
      "metadata": {
        "id": "IiaBibWNOyxT"
      },
      "execution_count": null,
      "outputs": []
    },
    {
      "cell_type": "code",
      "source": [
        "#plot by the educational causes\n",
        "plot_type(edu_status, 'Suicide by Education Status', 'Education Status')"
      ],
      "metadata": {
        "id": "8ToSTbe2PGVO"
      },
      "execution_count": null,
      "outputs": []
    },
    {
      "cell_type": "code",
      "source": [
        "# plot by means adopted\n",
        "plot_type(means_adpt, 'Suicide by Means Adopted', 'Means Adopted')"
      ],
      "metadata": {
        "id": "DHRo5RKaPNJ4"
      },
      "execution_count": null,
      "outputs": []
    },
    {
      "cell_type": "code",
      "source": [
        "# suicide by social Status\n",
        "plot_type(soc_status, 'Suicide by Social Status', 'Social Status')"
      ],
      "metadata": {
        "id": "mOGrU0-CPZW4"
      },
      "execution_count": null,
      "outputs": []
    },
    {
      "cell_type": "markdown",
      "source": [
        "#States wise suicides"
      ],
      "metadata": {
        "id": "cejeeOtbPdm5"
      }
    },
    {
      "cell_type": "code",
      "source": [
        "#Splitting the data as per the State\n",
        "State1 = data[data['State']=='Karnataka']\n",
        "State2 = data[data['State']=='Tamil Nadu']\n",
        "State3 = data[data['State']=='Andhra Pradesh']"
      ],
      "metadata": {
        "id": "HMbQbXTZPhSj"
      },
      "execution_count": null,
      "outputs": []
    },
    {
      "cell_type": "code",
      "source": [
        "def plot_for_State_by_age(data):\n",
        "    plt.figure(figsize=(12,6))\n",
        "    data = data[['Age_group','Gender','Total']]\n",
        "    edSort = data.groupby(['Age_group','Gender'],as_index=False).sum().sort_values('Total',ascending=False)\n",
        "    sns.barplot(x='Age_group',y='Total',hue='Gender',data=edSort,palette=['#AC87C5', '#FFD0D0'])"
      ],
      "metadata": {
        "id": "WXzSBd70PmAe"
      },
      "execution_count": null,
      "outputs": []
    },
    {
      "cell_type": "code",
      "source": [
        "def plot_for_State_by_type(data):\n",
        "    plt.figure(figsize=(12,6))\n",
        "    data = data[['Type_code', 'Gender', 'Total']]\n",
        "    edSort = data.groupby(['Type_code', 'Gender'], as_index=False).sum().sort_values('Total', ascending=False)\n",
        "    custom_palette = ['#4477CE', '#8CABFF']\n",
        "    sns.barplot(x='Type_code', y='Total', hue='Gender', data=edSort, palette=custom_palette)"
      ],
      "metadata": {
        "id": "vVbDHaKwVSxn"
      },
      "execution_count": null,
      "outputs": []
    },
    {
      "cell_type": "markdown",
      "source": [
        "#Karnataka"
      ],
      "metadata": {
        "id": "Y9b0fSQvYTCT"
      }
    },
    {
      "cell_type": "code",
      "source": [
        "#plotting as per the age_group\n",
        "plot_for_State_by_age(State1)"
      ],
      "metadata": {
        "id": "PWue736lYa6P"
      },
      "execution_count": null,
      "outputs": []
    },
    {
      "cell_type": "code",
      "source": [
        "#plotting as per the differnet causes\n",
        "plot_for_State_by_type(State1)"
      ],
      "metadata": {
        "id": "7LiejeQKYeIs"
      },
      "execution_count": null,
      "outputs": []
    },
    {
      "cell_type": "markdown",
      "source": [
        "#Tamil Nadu"
      ],
      "metadata": {
        "id": "_4xvkDsAYjjs"
      }
    },
    {
      "cell_type": "code",
      "source": [
        "#plotting as per the age_group\n",
        "plot_for_State_by_age(State2)"
      ],
      "metadata": {
        "id": "ZMAp1ifzYgLW"
      },
      "execution_count": null,
      "outputs": []
    },
    {
      "cell_type": "code",
      "source": [
        "#plotting as per the differnet causes\n",
        "plot_for_State_by_type(State2)"
      ],
      "metadata": {
        "id": "p3NEheHVYo8D"
      },
      "execution_count": null,
      "outputs": []
    },
    {
      "cell_type": "markdown",
      "source": [
        "#Andhra Pradesh"
      ],
      "metadata": {
        "id": "2Y_fXRR0Pyrg"
      }
    },
    {
      "cell_type": "code",
      "source": [
        "#plotting as per the age_group\n",
        "plot_for_State_by_age(State3)"
      ],
      "metadata": {
        "id": "qfEKZM4wPxyJ"
      },
      "execution_count": null,
      "outputs": []
    },
    {
      "cell_type": "code",
      "source": [
        "#plotting as per the differnet causes\n",
        "plot_for_State_by_type(State3)"
      ],
      "metadata": {
        "id": "1ujXBBDGVWnl"
      },
      "execution_count": null,
      "outputs": []
    }
  ]
}